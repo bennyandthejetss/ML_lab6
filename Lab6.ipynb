{
 "cells": [
  {
   "cell_type": "markdown",
   "id": "579ea03b-78f0-41f6-bf6f-f497ff9da0a4",
   "metadata": {},
   "source": [
    "# Lab Assignment Six: Convolutional Network Architectures\n"
   ]
  },
  {
   "cell_type": "markdown",
   "id": "9dcb66b2-183a-4663-baa7-e1548e9ca839",
   "metadata": {},
   "source": [
    "## Dataset Selection\n",
    "\n",
    "Select a dataset identically to lab two (images). That is, the dataset must be image data. In terms of generalization performance, it is helpful to have a large dataset of identically sized images. It is fine to perform binary classification or multi-class classification."
   ]
  },
  {
   "cell_type": "markdown",
   "id": "db1a4f8c-c339-4ad8-bb0e-a80f85852ccb",
   "metadata": {},
   "source": [
    "## Preparation (3 points total)  \n",
    "[1.5 points] Choose and explain what metric(s) you will use to evaluate your algorithm’s performance. You should give a detailed argument for why this (these) metric(s) are appropriate on your data. That is, why is the metric appropriate for the task (e.g., in terms of the business case for the task). Please note: rarely is accuracy the best evaluation metric to use. Think deeply about an appropriate measure of performance.\n",
    "\n",
    "[1.5 points] Choose the method you will use for dividi\n",
    "ng your data into training and testing (i.e., are you using Stratified 10-fold cross validation? Shuffle splits? Why?). Explain why your chosen method is appropriate or use more than one method as appropriate. Convince me that your cross validation method is a realistic mirroring of how an algorithm would be used in practice. "
   ]
  },
  {
   "cell_type": "markdown",
   "id": "1cbb63e9-5313-47cf-9ea7-1982657b971a",
   "metadata": {},
   "source": [
    "## Modeling (6 points total)\n",
    "[1.5 points]  Setup the training to use data expansion in Keras (also called data augmentation). Explain why the chosen data expansion techniques are appropriate for your dataset. You can use the keras ImageGenerator as a pre-processing step OR in the optimization loop. You can also use the Keras-cv augmenter (a separate package: https://keras.io/keras_cv/Links to an external site.)\n",
    "\n",
    "[2 points] Create a convolutional neural network to use on your data using Keras. Investigate at least two different convolutional network architectures (and investigate changing some parameters of each architecture such as the number of filters--at minimum have two variations of each network for a total of four models trained). Use the method of train/test splitting and evaluation metric that you argued for at the beginning of the lab. Visualize the performance of the training and validation sets per iteration (use the \"history\" parameter of Keras). Be sure that models converge.\n",
    "\n",
    "[1.5 points] Visualize the final results of the CNNs and interpret/compare the performances. Use proper statistics as appropriate, especially for comparing models. \n",
    "\n",
    "[1 points] Compare the performance of your convolutional network to a standard multi-layer perceptron (MLP) using the receiver operating characteristic and area under the curve. Use proper statistical comparison techniques.  \n"
   ]
  },
  {
   "cell_type": "markdown",
   "id": "aeb9ca6b-7179-42c1-81a7-ae58ae6f4fd2",
   "metadata": {},
   "source": [
    "## Exceptional Work (1 points total)\n",
    "You have free reign to provide additional analyses. \n",
    "\n",
    "One idea (required for 7000 level students): Use transfer learning to pre-train the weights of your initial layers of your CNN. Compare the performance when using transfer learning to training without transfer learning (i.e., compare to your best model from above) in terms of classification performance. "
   ]
  },
  {
   "cell_type": "markdown",
   "id": "9603de18-2291-4540-b4b2-cbf9e89aa9ac",
   "metadata": {},
   "source": []
  }
 ],
 "metadata": {
  "kernelspec": {
   "display_name": "Python 3 (ipykernel)",
   "language": "python",
   "name": "python3"
  },
  "language_info": {
   "codemirror_mode": {
    "name": "ipython",
    "version": 3
   },
   "file_extension": ".py",
   "mimetype": "text/x-python",
   "name": "python",
   "nbconvert_exporter": "python",
   "pygments_lexer": "ipython3",
   "version": "3.9.13"
  }
 },
 "nbformat": 4,
 "nbformat_minor": 5
}
